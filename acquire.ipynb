{
 "cells": [
  {
   "cell_type": "code",
   "execution_count": 1,
   "metadata": {},
   "outputs": [],
   "source": [
    "import matplotlib.pyplot as plt\n",
    "from requests import get\n",
    "from bs4 import BeautifulSoup\n",
    "import seaborn as sns\n",
    "import pandas as pd\n",
    "import nltk\n",
    "import unicodedata\n",
    "\n",
    "\n",
    "import env\n",
    "import acquire"
   ]
  },
  {
   "cell_type": "code",
   "execution_count": 59,
   "metadata": {},
   "outputs": [],
   "source": [
    "def to_update_or_not_to_udpate(update_flag=True,repo_count=100,make_csv=True):\n",
    "    ''' \n",
    "    optional inputs of updating, counts, and making csv\n",
    "    if updating it will pull from most forked repos, at given (default 100 count), then make a csv\n",
    "    otherwise pulls from csv\n",
    "    '''\n",
    "    import acquire\n",
    "    from os.path import exists\n",
    "    from datetime import datetime\n",
    "    \n",
    "    if update_flag:\n",
    "        list_repo = []\n",
    "        pages = (repo_count//10)+1\n",
    "        for i in range(1,(1+pages)): ##numbers are pages, 10 per page\n",
    "            response = get('https://github.com/search?o=desc&q=stars:%3E1&s=forks&type=Repositories'.format(i))\n",
    "            soup = BeautifulSoup(response.content, 'html.parser')\n",
    "            \n",
    "            for repo in soup.find_all('a', class_ = 'v-align-middle'):\n",
    "                list_repo.append(repo.text)\n",
    "\n",
    "        dictionary_of_repos = acquire.scrape_github_data(list_repo[:repo_count])\n",
    "        df = pd.DataFrame(dictionary_of_repos)\n",
    "\n",
    "        # if bored in future try to have csv pull from most recent date time\n",
    "        # df.to_csv(f'github_forked{datetime.now().strftime(\"%d/%m/%Y/%H:%M\")}.csv', index=False)\n",
    "        if make_csv:\n",
    "            df.to_csv(f'github_forked.csv', index=False)\n",
    "    else:\n",
    "        if exists('github_forked.csv'):\n",
    "            df = pd.read_csv('github_forked.csv')\n",
    "        else:\n",
    "            print(\"can not find file, please update instead\")\n",
    "        \n",
    "    return df"
   ]
  },
  {
   "cell_type": "code",
   "execution_count": 60,
   "metadata": {},
   "outputs": [
    {
     "data": {
      "text/html": [
       "<div>\n",
       "<style scoped>\n",
       "    .dataframe tbody tr th:only-of-type {\n",
       "        vertical-align: middle;\n",
       "    }\n",
       "\n",
       "    .dataframe tbody tr th {\n",
       "        vertical-align: top;\n",
       "    }\n",
       "\n",
       "    .dataframe thead th {\n",
       "        text-align: right;\n",
       "    }\n",
       "</style>\n",
       "<table border=\"1\" class=\"dataframe\">\n",
       "  <thead>\n",
       "    <tr style=\"text-align: right;\">\n",
       "      <th></th>\n",
       "      <th>repo</th>\n",
       "      <th>language</th>\n",
       "      <th>readme_contents</th>\n",
       "    </tr>\n",
       "  </thead>\n",
       "  <tbody>\n",
       "    <tr>\n",
       "      <th>0</th>\n",
       "      <td>jtleek/datasharing</td>\n",
       "      <td>None</td>\n",
       "      <td>How to share data with a statistician\\n=======...</td>\n",
       "    </tr>\n",
       "    <tr>\n",
       "      <th>1</th>\n",
       "      <td>rdpeng/ProgrammingAssignment2</td>\n",
       "      <td>R</td>\n",
       "      <td>### Introduction\\n\\nThis second programming as...</td>\n",
       "    </tr>\n",
       "    <tr>\n",
       "      <th>2</th>\n",
       "      <td>octocat/Spoon-Knife</td>\n",
       "      <td>HTML</td>\n",
       "      <td>### Well hello there!\\n\\nThis repository is me...</td>\n",
       "    </tr>\n",
       "    <tr>\n",
       "      <th>3</th>\n",
       "      <td>SmartThingsCommunity/SmartThingsPublic</td>\n",
       "      <td>Groovy</td>\n",
       "      <td># Welcome to the SmartThings Public GitHub Rep...</td>\n",
       "    </tr>\n",
       "    <tr>\n",
       "      <th>4</th>\n",
       "      <td>tensorflow/tensorflow</td>\n",
       "      <td>C++</td>\n",
       "      <td>&lt;div align=\"center\"&gt;\\n  &lt;img src=\"https://www....</td>\n",
       "    </tr>\n",
       "    <tr>\n",
       "      <th>...</th>\n",
       "      <td>...</td>\n",
       "      <td>...</td>\n",
       "      <td>...</td>\n",
       "    </tr>\n",
       "    <tr>\n",
       "      <th>95</th>\n",
       "      <td>github/gitignore</td>\n",
       "      <td>None</td>\n",
       "      <td># A collection of `.gitignore` templates\\n\\nTh...</td>\n",
       "    </tr>\n",
       "    <tr>\n",
       "      <th>96</th>\n",
       "      <td>twbs/bootstrap</td>\n",
       "      <td>JavaScript</td>\n",
       "      <td>&lt;p align=\"center\"&gt;\\n  &lt;a href=\"https://getboot...</td>\n",
       "    </tr>\n",
       "    <tr>\n",
       "      <th>97</th>\n",
       "      <td>Pierian-Data/Complete-Python-3-Bootcamp</td>\n",
       "      <td>Jupyter Notebook</td>\n",
       "      <td># Complete-Python-3-Bootcamp\\nCourse Files for...</td>\n",
       "    </tr>\n",
       "    <tr>\n",
       "      <th>98</th>\n",
       "      <td>nightscout/cgm-remote-monitor</td>\n",
       "      <td>JavaScript</td>\n",
       "      <td>Nightscout Web Monitor (a.k.a. cgm-remote-moni...</td>\n",
       "    </tr>\n",
       "    <tr>\n",
       "      <th>99</th>\n",
       "      <td>jwasham/coding-interview-university</td>\n",
       "      <td>None</td>\n",
       "      <td># Coding Interview University\\n\\n&gt; I originall...</td>\n",
       "    </tr>\n",
       "  </tbody>\n",
       "</table>\n",
       "<p>100 rows × 3 columns</p>\n",
       "</div>"
      ],
      "text/plain": [
       "                                       repo          language  \\\n",
       "0                        jtleek/datasharing              None   \n",
       "1             rdpeng/ProgrammingAssignment2                 R   \n",
       "2                       octocat/Spoon-Knife              HTML   \n",
       "3    SmartThingsCommunity/SmartThingsPublic            Groovy   \n",
       "4                     tensorflow/tensorflow               C++   \n",
       "..                                      ...               ...   \n",
       "95                         github/gitignore              None   \n",
       "96                           twbs/bootstrap        JavaScript   \n",
       "97  Pierian-Data/Complete-Python-3-Bootcamp  Jupyter Notebook   \n",
       "98            nightscout/cgm-remote-monitor        JavaScript   \n",
       "99      jwasham/coding-interview-university              None   \n",
       "\n",
       "                                      readme_contents  \n",
       "0   How to share data with a statistician\\n=======...  \n",
       "1   ### Introduction\\n\\nThis second programming as...  \n",
       "2   ### Well hello there!\\n\\nThis repository is me...  \n",
       "3   # Welcome to the SmartThings Public GitHub Rep...  \n",
       "4   <div align=\"center\">\\n  <img src=\"https://www....  \n",
       "..                                                ...  \n",
       "95  # A collection of `.gitignore` templates\\n\\nTh...  \n",
       "96  <p align=\"center\">\\n  <a href=\"https://getboot...  \n",
       "97  # Complete-Python-3-Bootcamp\\nCourse Files for...  \n",
       "98  Nightscout Web Monitor (a.k.a. cgm-remote-moni...  \n",
       "99  # Coding Interview University\\n\\n> I originall...  \n",
       "\n",
       "[100 rows x 3 columns]"
      ]
     },
     "execution_count": 60,
     "metadata": {},
     "output_type": "execute_result"
    }
   ],
   "source": [
    "df = to_update_or_not_to_udpate()\n",
    "df"
   ]
  },
  {
   "cell_type": "code",
   "execution_count": 50,
   "metadata": {},
   "outputs": [
    {
     "data": {
      "text/plain": [
       "[]"
      ]
     },
     "execution_count": 50,
     "metadata": {},
     "output_type": "execute_result"
    }
   ],
   "source": [
    "list_repo = []\n",
    "\n",
    "for i in range(1,11): ##numbers are pages, 10 per page\n",
    "    response = get('https://github.com/search?o=desc&q=stars:%3E1&s=forks&type=Repositories'.format(i))\n",
    "    soup = BeautifulSoup(response.content, 'html.parser')\n",
    "    \n",
    "    for repo in soup.find_all('a', class_ = 'v-align-middle'):\n",
    "        list_repo.append(repo.text)\n",
    "list_repo"
   ]
  },
  {
   "cell_type": "code",
   "execution_count": 27,
   "metadata": {},
   "outputs": [],
   "source": [
    "dictionary_of_repos = acquire.scrape_github_data(list_repo)\n",
    "df = pd.DataFrame(dictionary_of_repos)"
   ]
  },
  {
   "cell_type": "code",
   "execution_count": 29,
   "metadata": {},
   "outputs": [
    {
     "data": {
      "text/plain": [
       "JavaScript          19\n",
       "R                   10\n",
       "Jupyter Notebook    10\n",
       "Python              10\n",
       "Groovy               9\n",
       "C++                  9\n",
       "Java                 1\n",
       "C                    1\n",
       "Name: language, dtype: int64"
      ]
     },
     "execution_count": 29,
     "metadata": {},
     "output_type": "execute_result"
    }
   ],
   "source": [
    "df.language.value_counts()"
   ]
  },
  {
   "cell_type": "code",
   "execution_count": null,
   "metadata": {},
   "outputs": [],
   "source": []
  }
 ],
 "metadata": {
  "kernelspec": {
   "display_name": "Python 3.9.13 ('base')",
   "language": "python",
   "name": "python3"
  },
  "language_info": {
   "codemirror_mode": {
    "name": "ipython",
    "version": 3
   },
   "file_extension": ".py",
   "mimetype": "text/x-python",
   "name": "python",
   "nbconvert_exporter": "python",
   "pygments_lexer": "ipython3",
   "version": "3.9.13"
  },
  "orig_nbformat": 4,
  "vscode": {
   "interpreter": {
    "hash": "3067ead486e059ec00ffe7555bdb889e6e264a24dc711bf108106cc7baee8d5d"
   }
  }
 },
 "nbformat": 4,
 "nbformat_minor": 2
}
